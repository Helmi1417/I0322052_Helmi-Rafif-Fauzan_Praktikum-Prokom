{
 "cells": [
  {
   "cell_type": "code",
   "execution_count": 2,
   "metadata": {},
   "outputs": [
    {
     "name": "stdout",
     "output_type": "stream",
     "text": [
      "Helmi\n",
      "I0322052\n",
      "B\n"
     ]
    }
   ],
   "source": [
    "print(input(\"Nama: \"))\n",
    "print(input(\"NIM: \"))\n",
    "print(input(\"Kelas: \"))"
   ]
  },
  {
   "attachments": {},
   "cell_type": "markdown",
   "metadata": {},
   "source": [
    "## 1."
   ]
  },
  {
   "attachments": {},
   "cell_type": "markdown",
   "metadata": {},
   "source": [
    "Buatlah program yang meminta input string dari user, kemudian program akan menentukan string tersebut adalah palyndrome atau bukan.<br>\n",
    "* Palyndrome adalah kata atau kalimat yang jika dibalik hasilnya sama\n",
    "* kasur rusak adalah palyndrome\n",
    "\n",
    "> *note: Kerjakan soal ini dengan percabangan*"
   ]
  },
  {
   "cell_type": "code",
   "execution_count": 20,
   "metadata": {},
   "outputs": [
    {
     "name": "stdout",
     "output_type": "stream",
     "text": [
      " kata tersebut adalah polyandrome\n"
     ]
    }
   ],
   "source": [
    "# Kerjakan soal no 1 di sini\n",
    "a = str(input(\"Masukkan kata/kalimat polyndrome\"))\n",
    "b = a[::-1]\n",
    "\n",
    "if a == b :\n",
    "    print(\" kata tersebut adalah polyandrome\")\n",
    "else :\n",
    "    print(\" kata tersebut adalah bukan polyandrome\")"
   ]
  },
  {
   "attachments": {},
   "cell_type": "markdown",
   "metadata": {},
   "source": [
    "## 2."
   ]
  },
  {
   "attachments": {},
   "cell_type": "markdown",
   "metadata": {},
   "source": [
    "Buatlah program yang meminta input berupa tahun dan bulan kemudian tampilkan jumlah hari pada bulan tersebut (perbedaan pada tahun kabisat).<br>\n",
    "\n",
    "> *note: Kerjakan soal ini dengan percabangan*"
   ]
  },
  {
   "cell_type": "code",
   "execution_count": 15,
   "metadata": {},
   "outputs": [
    {
     "name": "stdout",
     "output_type": "stream",
     "text": [
      "pada tahun 2020 bulan febuari terdapat hari sejumlah 29\n"
     ]
    }
   ],
   "source": [
    "# Kerjakan soal no 2 di sini\n",
    "t1 = {\n",
    "    \"januari\" : 31,\n",
    "    \"febuari\" : 28,\n",
    "    \"maret\" : 31,\n",
    "    \"april\" : 30,\n",
    "    \"mei\" : 31,\n",
    "    \"juni\" : 30,\n",
    "    \"juli\" : 31,\n",
    "    \"agustus\" : 31,\n",
    "    \"september\" : 30,\n",
    "    \"oktober\" : 31,\n",
    "    \"november\" : 30,\n",
    "    \"desember\" : 31\n",
    "}\n",
    "\n",
    "t2 ={\n",
    "    \"januari\" : 31,\n",
    "    \"febuari\" : 29,\n",
    "    \"maret\" : 31,\n",
    "    \"april\" : 30,\n",
    "    \"mei\" : 31,\n",
    "    \"juni\" : 30,\n",
    "    \"juli\" : 31,\n",
    "    \"agustus\" : 31,\n",
    "    \"september\" : 30,\n",
    "    \"oktober\" : 31,\n",
    "    \"november\" : 30,\n",
    "    \"desember\" : 31\n",
    "}\n",
    "\n",
    "a = int(input(\"masukkan tahun yang ingin dicari\"))\n",
    "b = str(input(\"masukkan bulan yang ingin dicari\"))\n",
    "\n",
    "if a % 4 == 0 :\n",
    "    print(\"pada tahun\", a, \"bulan\",b, \"terdapat hari sejumlah\", t2[b])\n",
    "else :\n",
    "    print(\"pada tahun\", a, \"bulan\",b, \"terdapat hari sejumlah\", t1[b])"
   ]
  }
 ],
 "metadata": {
  "kernelspec": {
   "display_name": "Python 3",
   "language": "python",
   "name": "python3"
  },
  "language_info": {
   "codemirror_mode": {
    "name": "ipython",
    "version": 3
   },
   "file_extension": ".py",
   "mimetype": "text/x-python",
   "name": "python",
   "nbconvert_exporter": "python",
   "pygments_lexer": "ipython3",
   "version": "3.11.3"
  },
  "orig_nbformat": 4
 },
 "nbformat": 4,
 "nbformat_minor": 2
}
