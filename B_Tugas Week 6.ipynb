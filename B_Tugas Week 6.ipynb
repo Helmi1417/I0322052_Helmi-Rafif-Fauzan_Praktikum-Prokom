{
 "cells": [
  {
   "attachments": {},
   "cell_type": "markdown",
   "metadata": {},
   "source": [
    "1. Tulis program dengan fungsi untuk menentukan yang paling besar dari empat angka yang diberikan!\n",
    "     ###### Note: Angka ditentukan sendiri oleh praktikan"
   ]
  },
  {
   "cell_type": "code",
   "execution_count": 9,
   "metadata": {},
   "outputs": [
    {
     "name": "stdout",
     "output_type": "stream",
     "text": [
      "bilangan terbesar adalah bilangan 12\n"
     ]
    }
   ],
   "source": [
    "# Kerjakan Nomor 1 di bawah ini\n",
    "def bilanganterbesar(num1,num2,num3,num4) :\n",
    "    if num1 >= num2 and num1 >= num3 and num1 >= num4 :\n",
    "        print(f\"bilangan terbesar adalah bilangan {num1}\")\n",
    "    elif num2 >= num1 and num2 >= num3 and num2 >= num4 :\n",
    "        print(f\"bilangan terbesar adalah bilangan {num2}\")\n",
    "    elif num3 >= num1 and num3 >= num2 and num3 >= num4 :\n",
    "        print(f\"bilangan terbesar adalah bilangan {num3}\")\n",
    "    elif num4 >= num1 and num4 >= num2 and num4 >= num3 :\n",
    "        print(f\"bilangan terbesar adalah bilangan {num4}\")\n",
    "    else:\n",
    "        print(f\"angka yang anda masukkan bermasalah\")\n",
    "    \n",
    "    \n",
    "bilanganterbesar(12,12,6,6)\n",
    "    "
   ]
  },
  {
   "attachments": {},
   "cell_type": "markdown",
   "metadata": {},
   "source": [
    "2. Tulis fungsi Python yang mengambil list awal dan menampilkan list baru dengan angka unik (tidak ada angka yang sama) dari list yang pertama."
   ]
  },
  {
   "cell_type": "code",
   "execution_count": 10,
   "metadata": {},
   "outputs": [],
   "source": [
    "list_awal = [9,9,9,9,9,9,9,10,11,13,14,15,17,19]\n",
    "\n"
   ]
  },
  {
   "cell_type": "code",
   "execution_count": 16,
   "metadata": {},
   "outputs": [
    {
     "data": {
      "text/plain": [
       "{9, 10, 11, 13, 14, 15, 17, 19}"
      ]
     },
     "execution_count": 16,
     "metadata": {},
     "output_type": "execute_result"
    }
   ],
   "source": [
    "# Kerjakan Nomor 2 di bawah ini\n",
    "list_awal = [9,9,9,9,9,9,9,10,11,13,14,15,17,19]\n",
    "\n",
    "def listbaru() :\n",
    "    list_baru = set(list_awal)\n",
    "    return list_baru\n",
    "\n",
    "listbaru()"
   ]
  },
  {
   "attachments": {},
   "cell_type": "markdown",
   "metadata": {},
   "source": [
    "3. Hitunglah 2 angka yang dapat diinputkan dengan angka kedua menjadi pangkat bagi angka pertama, dan angka kedua menjadi pembagi angka pertama (tampilkan juga sisa hasil pembagiannya) \n",
    "\n",
    "clue : gunakan fungsi yang ada di built-in tanpa menggunakan sintaks operator seperti * ataupun /."
   ]
  },
  {
   "cell_type": "code",
   "execution_count": 19,
   "metadata": {},
   "outputs": [
    {
     "name": "stdout",
     "output_type": "stream",
     "text": [
      "32\n",
      "(0, 2)\n"
     ]
    }
   ],
   "source": [
    "# Kerjakan Nomor 3 di bawah ini\n",
    "def duaangka(num1,num2):\n",
    "    pangkat = pow(num1,num2)\n",
    "    return pangkat\n",
    "    \n",
    "\n",
    "def duaangka2(num1,num2):\n",
    "    bagi = divmod(num1,num2)\n",
    "    return bagi\n",
    "\n",
    "\n",
    "\n",
    "print(duaangka(2,5))\n",
    "print(duaangka2(2,5))\n"
   ]
  }
 ],
 "metadata": {
  "kernelspec": {
   "display_name": "Python 3",
   "language": "python",
   "name": "python3"
  },
  "language_info": {
   "codemirror_mode": {
    "name": "ipython",
    "version": 3
   },
   "file_extension": ".py",
   "mimetype": "text/x-python",
   "name": "python",
   "nbconvert_exporter": "python",
   "pygments_lexer": "ipython3",
   "version": "3.9.9"
  },
  "orig_nbformat": 4,
  "vscode": {
   "interpreter": {
    "hash": "5addf786bcd861d1ce5006f23111f8cbb206731e5b61b0a5632ba9e0252558a8"
   }
  }
 },
 "nbformat": 4,
 "nbformat_minor": 2
}
