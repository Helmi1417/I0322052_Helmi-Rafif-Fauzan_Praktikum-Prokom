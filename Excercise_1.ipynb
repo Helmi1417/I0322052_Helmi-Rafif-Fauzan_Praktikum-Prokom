{
 "cells": [
  {
   "cell_type": "code",
   "execution_count": 2,
   "metadata": {},
   "outputs": [
    {
     "name": "stdout",
     "output_type": "stream",
     "text": [
      "Helmi Rafif Fauzan\n",
      "I0322052\n",
      "Saya berasal dari Jakarta Selatan\n",
      "walaupun saya tinggal di Jakarta Selatan, jakarta yang saya tempati berada di pinggiran mepet dengan tanggerang.hidup dipinggiran jakarta mampu membuat saya membandingkan bagaimana ketimpangan sosial. orang yang berkecukupan dengan yang tidak. ditempat saya tinggal ketimpangan tersebut dapat terlihat jelas namun masyarakat disana hidup berdampingan, tanpa  berselisih. Jakarta yang di katakan penuh polusi, tidak begitu tampak di tempat saya karena wilayah pinggir jakarta dapat berkembang dengan keasrian alamnya\n",
      "Harapan saya dengan berkuliah di TI UNS dapat menguasai banyak hal dan mampu menjadi nomor satu sehingga dapat bersaing dalam dunia pernafkahan\n"
     ]
    }
   ],
   "source": [
    "nama = (\"Helmi Rafif Fauzan\")\n",
    "NIM = (\"I0322052\")\n",
    "Asal = (\"Saya berasal dari Jakarta Selatan\")\n",
    "Visual_asal = (\"walaupun saya tinggal di Jakarta Selatan, jakarta yang saya tempati berada di pinggiran mepet dengan tanggerang.hidup dipinggiran jakarta mampu membuat saya membandingkan bagaimana ketimpangan sosial. orang yang berkecukupan dengan yang tidak. ditempat saya tinggal ketimpangan tersebut dapat terlihat jelas namun masyarakat disana hidup berdampingan, tanpa  berselisih. Jakarta yang di katakan penuh polusi, tidak begitu tampak di tempat saya karena wilayah pinggir jakarta dapat berkembang dengan keasrian alamnya\")\n",
    "harapan = (\"Harapan saya dengan berkuliah di TI UNS dapat menguasai banyak hal dan mampu menjadi nomor satu sehingga dapat bersaing dalam dunia pernafkahan\")\n",
    "\n",
    "print (nama)\n",
    "print (NIM)\n",
    "print (Asal)\n",
    "print (Visual_asal)\n",
    "print (harapan)\n",
    "\n",
    "\n"
   ]
  }
 ],
 "metadata": {
  "kernelspec": {
   "display_name": "Python 3",
   "language": "python",
   "name": "python3"
  },
  "language_info": {
   "codemirror_mode": {
    "name": "ipython",
    "version": 3
   },
   "file_extension": ".py",
   "mimetype": "text/x-python",
   "name": "python",
   "nbconvert_exporter": "python",
   "pygments_lexer": "ipython3",
   "version": "3.10.7"
  },
  "orig_nbformat": 4
 },
 "nbformat": 4,
 "nbformat_minor": 2
}
