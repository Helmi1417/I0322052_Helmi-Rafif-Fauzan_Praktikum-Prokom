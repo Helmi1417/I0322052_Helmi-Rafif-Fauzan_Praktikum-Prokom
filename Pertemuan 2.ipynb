{
 "cells": [
  {
   "cell_type": "code",
   "execution_count": 3,
   "metadata": {},
   "outputs": [
    {
     "name": "stdout",
     "output_type": "stream",
     "text": [
      "nilai fahreheit 100 C ke F adalah 18.844444444444445\n"
     ]
    }
   ],
   "source": [
    "fahrenheit = int(input(\"masukkan nilai fahrenheit\"))\n",
    "\n",
    "celcius = ((5/9) * fahrenheit) - 32 \n",
    "reamur = (4/5) * celcius\n",
    "print(f\"nilai fahreheit {fahrenheit} C ke F adalah {reamur}\")"
   ]
  },
  {
   "cell_type": "code",
   "execution_count": 4,
   "metadata": {},
   "outputs": [
    {
     "name": "stdout",
     "output_type": "stream",
     "text": [
      "nilai fahrenheit 12 f ke R adalah -21.530864197530864\n"
     ]
    }
   ],
   "source": [
    "fahrenheit = int(input(\"masukkan nilai fahrenheit\"))\n",
    "\n",
    "reamur = ((4/9) * celcius) - 32 \n",
    "\n",
    "\n",
    "print(f\"nilai fahrenheit {fahrenheit} f ke R adalah {reamur}\")"
   ]
  },
  {
   "cell_type": "code",
   "execution_count": 25,
   "metadata": {},
   "outputs": [
    {
     "name": "stdout",
     "output_type": "stream",
     "text": [
      "uang anda Rp 100000 dalam mata uang asing 9.799999999999999 \n"
     ]
    }
   ],
   "source": [
    "mata_uang = { \n",
    "    'USD' : 0.000071,\n",
    "    'SGD' : 0.000098,\n",
    "    'EUR' : 0.000061,\n",
    "    'JPY' : 0.0079\n",
    "}\n",
    "\n",
    "uang_asing = str(input (\"mau konversi ke : USD,SGD,EUR,JPY (Pilih salah satu)\"))\n",
    "Rp = int(input (\"masukkan nilai uang anda dalam rupiah\"))\n",
    "\n",
    "konversi = (Rp * (mata_uang [uang_asing]))\n",
    "print(f\"uang anda Rp {Rp} dalam mata uang asing {konversi} \")\n"
   ]
  },
  {
   "cell_type": "code",
   "execution_count": 28,
   "metadata": {},
   "outputs": [
    {
     "ename": "SyntaxError",
     "evalue": "':' expected after dictionary key (2846007561.py, line 7)",
     "output_type": "error",
     "traceback": [
      "\u001b[1;36m  Cell \u001b[1;32mIn[28], line 7\u001b[1;36m\u001b[0m\n\u001b[1;33m    {'praktikan2' : {\u001b[0m\n\u001b[1;37m     ^\u001b[0m\n\u001b[1;31mSyntaxError\u001b[0m\u001b[1;31m:\u001b[0m ':' expected after dictionary key\n"
     ]
    }
   ],
   "source": [
    "Classroom = {\n",
    "    'praktikan' : \n",
    "    { 'baris1' : \n",
    "    {'praktikan1' :{'nama' : 'lodero', 'age'  : 19}},\n",
    "    {'praktikan2' : {'nama' : 'deo', 'age'  : 12  }},\n",
    "    {'praktikan3' : {'nama' : 'fiki', 'age'  : 13 }},\n",
    "    {'praktikan4' : {'nama' : 'dimas','age'  : 14}},},\n",
    "\n",
    "    {'baris2' :{\n",
    "    'praktikan1' :{\n",
    "    'nama' : 'Jourdy',\n",
    "    'age'  : 19}},\n",
    "    {'praktikan2' : {\n",
    "    'nama' : 'jehan',\n",
    "    'age'  : 12\n",
    "    }},\n",
    "    {'praktikan3' : {\n",
    "    'nama' : 'kasturia',\n",
    "    'age'  : 13\n",
    "    }},\n",
    "     {'praktikan4' : {\n",
    "    'nama' : 'jessica',\n",
    "    'age'  : 14\n",
    "    }},\n",
    "    },\n",
    "\n",
    "     {'baris3' :{\n",
    "    'praktikan1' :{\n",
    "    'nama' : 'Katon',\n",
    "    'age'  : 20}},\n",
    "    {'praktikan2' : {\n",
    "    'nama' : 'alfi',\n",
    "    'age'  : 12\n",
    "    }},\n",
    "    {'praktikan3' : {\n",
    "    'nama' : 'irvi',\n",
    "    'age'  : 13\n",
    "    }},\n",
    "     {'praktikan4' : {\n",
    "    'nama' : 'fatihah',\n",
    "    'age'  : 14\n",
    "    }},\n",
    "    },\n",
    "\n",
    "     {'baris4' :{\n",
    "    'praktikan1' :{\n",
    "    'nama' : 'Ivan',\n",
    "    'age'  : 20}},\n",
    "    {'praktikan2' : {\n",
    "    'nama' : 'karisa',\n",
    "    'age'  : 12\n",
    "    }},\n",
    "    {'praktikan3' : {\n",
    "    'nama' : 'luqman',\n",
    "    'age'  : 13\n",
    "    }},\n",
    "     {'praktikan4' : {\n",
    "    'nama' : 'devi',\n",
    "    'age'  : 14\n",
    "    }},\n",
    "    },\n",
    "\n",
    "     {'baris5' :{\n",
    "    'praktikan1' :{\n",
    "    'nama' : 'Jagad',\n",
    "    'age'  : 20}},\n",
    "    {'praktikan2' : {\n",
    "    'nama' : 'Ken',\n",
    "    'age'  : 12\n",
    "    }},\n",
    "    {'praktikan3' : {\n",
    "    'nama' : 'Gabeta',\n",
    "    'age'  : 13\n",
    "    }},\n",
    "     {'praktikan4' : {\n",
    "    'nama' : 'Helmi',\n",
    "    'age'  : 14\n",
    "    }},\n",
    "    },\n",
    "\n",
    "    {'baris6' :{\n",
    "    'praktikan1' :{\n",
    "    'nama' : 'mumun',\n",
    "    'age'  : 20}},\n",
    "    {'praktikan2' : {\n",
    "    'nama' : 'fasiha',\n",
    "    'age'  : 12\n",
    "    }},\n",
    "    {'praktikan3' : {\n",
    "    'nama' : 'Karin',\n",
    "    'age'  : 13\n",
    "    }},\n",
    "     {'praktikan4' : {\n",
    "    'nama' : 'Fahrul',\n",
    "    'age'  : 14\n",
    "    }},\n",
    "    },\n",
    "\n",
    "    {'baris7' :{\n",
    "    'praktikan1' :{\n",
    "    'nama' : 'ghaisan',\n",
    "    'age'  : 20}},\n",
    "    {'praktikan2' : {\n",
    "    'nama' : 'edwin',\n",
    "    'age'  : 12\n",
    "    }},\n",
    "    {'praktikan3' : {\n",
    "    'nama' : 'fery',\n",
    "    'age'  : 13\n",
    "    }},\n",
    "     {'praktikan4' : {\n",
    "    'nama' : 'dio',\n",
    "    'age'  : 14\n",
    "    }},\n",
    "    },\n",
    "\n",
    "    {'baris8' :{\n",
    "    'praktikan1' :{\n",
    "    'nama' : 'Gea',\n",
    "    'age'  : 20}},\n",
    "    {'praktikan2' : {\n",
    "    'nama' : 'fayya',\n",
    "    'age'  : 12\n",
    "    }},\n",
    "    {'praktikan3' : {\n",
    "    'nama' : 'ipeh',\n",
    "    'age'  : 13\n",
    "    }},\n",
    "     {'praktikan4' : {\n",
    "    'nama' : 'kavita',\n",
    "    'age'  : 14\n",
    "    }},\n",
    "    },\n",
    "\n",
    "     },\n",
    "\n",
    "\n",
    "\n",
    "    {'aslab' : \n",
    "     {'aslab1' : { \n",
    "    'nama' : 'safri',\n",
    "    'age'  : '20'\n",
    "     }},\n",
    "     { }}\n",
    "\n",
    "\n",
    "cari_apa = str(input(\"Masukkan apa yang dicari (praktikan)\"))\n",
    "baris_berapa = (input(\"baris berapa 1-4: (contoh: baris1 )\"))\n",
    "nopratikan = (input(\"nomor pratikan (pratikan1-4)\"))\n",
    "print(Classroom(cari_apa(baris_berapa(nopratikan))))"
   ]
  },
  {
   "cell_type": "code",
   "execution_count": 26,
   "metadata": {},
   "outputs": [
    {
     "name": "stdout",
     "output_type": "stream",
     "text": [
      "ikan \n",
      "akar \n",
      "ia aa \n"
     ]
    }
   ],
   "source": [
    "string = \"ikan bakar gosong item ikan pait banget\"\n",
    "print(string[0:5])\n",
    "print(string[6:11])\n",
    "print(string[0:11:2])"
   ]
  }
 ],
 "metadata": {
  "kernelspec": {
   "display_name": "Python 3",
   "language": "python",
   "name": "python3"
  },
  "language_info": {
   "codemirror_mode": {
    "name": "ipython",
    "version": 3
   },
   "file_extension": ".py",
   "mimetype": "text/x-python",
   "name": "python",
   "nbconvert_exporter": "python",
   "pygments_lexer": "ipython3",
   "version": "3.10.7"
  },
  "orig_nbformat": 4
 },
 "nbformat": 4,
 "nbformat_minor": 2
}
